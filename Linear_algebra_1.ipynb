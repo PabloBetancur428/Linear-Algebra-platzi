{
 "cells": [
  {
   "cell_type": "markdown",
   "metadata": {},
   "source": [
    "# Linear Algebra Notebook"
   ]
  },
  {
   "cell_type": "markdown",
   "metadata": {},
   "source": [
    "# Class 1\n",
    "Check vectors, matrix and tensors"
   ]
  },
  {
   "cell_type": "code",
   "execution_count": 2,
   "metadata": {},
   "outputs": [],
   "source": [
    "import numpy as np\n"
   ]
  },
  {
   "cell_type": "code",
   "execution_count": 4,
   "metadata": {},
   "outputs": [
    {
     "name": "stdout",
     "output_type": "stream",
     "text": [
      "[1 2 3 4]\n"
     ]
    }
   ],
   "source": [
    "vector = np.array([1, 2, 3, 4])\n",
    "print(vector)"
   ]
  },
  {
   "cell_type": "code",
   "execution_count": 5,
   "metadata": {},
   "outputs": [
    {
     "name": "stdout",
     "output_type": "stream",
     "text": [
      "[[1 2 3]\n",
      " [4 5 6]\n",
      " [7 8 9]]\n"
     ]
    }
   ],
   "source": [
    "matrix = np.array([[1,2,3], [4,5,6], [7,8,9]])\n",
    "print(matrix)"
   ]
  },
  {
   "cell_type": "code",
   "execution_count": 8,
   "metadata": {},
   "outputs": [
    {
     "name": "stdout",
     "output_type": "stream",
     "text": [
      "[[[  1   2   3]\n",
      "  [  1   2   3]\n",
      "  [  1   2   3]]\n",
      "\n",
      " [[100 100 100]\n",
      "  [100 100 100]\n",
      "  [100 100 100]]\n",
      "\n",
      " [[255 255 255]\n",
      "  [255 255 255]\n",
      "  [255 255 255]]]\n"
     ]
    }
   ],
   "source": [
    "tensor = np.array([[[1,2,3], [1,2,3], [1,2,3]],\n",
    "                   [[100,100,100], [100,100,100], [100,100,100]],\n",
    "                   [[255,255,255], [255,255,255], [255,255,255]]])\n",
    "\n",
    "print(tensor)"
   ]
  },
  {
   "cell_type": "code",
   "execution_count": 9,
   "metadata": {},
   "outputs": [
    {
     "data": {
      "image/png": "[encoded data removed]",
      "text/plain": [
       "<Figure size 640x480 with 1 Axes>"
      ]
     },
     "metadata": {},
     "output_type": "display_data"
    }
   ],
   "source": [
    "# Let's supose that the tensor is an image\n",
    "import matplotlib.pyplot as plt\n",
    "\n",
    "plt.imshow(tensor, interpolation='nearest')\n",
    "plt.show()"
   ]
  },
  {
   "cell_type": "code",
   "execution_count": 10,
   "metadata": {},
   "outputs": [
    {
     "data": {
      "image/png": "[encoded data removed]",
      "text/plain": [
       "<Figure size 640x480 with 1 Axes>"
      ]
     },
     "metadata": {},
     "output_type": "display_data"
    }
   ],
   "source": [
    "tensor = np.array([\n",
    "    [[255,255,255], [255,255,255], [255,255,255]],\n",
    "    [[1,2,3], [1,2,3], [1,2,3]],\n",
    "    [[100,100,100], [100,100,100], [100,100,100]],\n",
    "                   ])\n",
    "plt.imshow(tensor, interpolation='nearest')\n",
    "plt.show()"
   ]
  },
  {
   "cell_type": "markdown",
   "metadata": {},
   "source": [
    "# Class 2 - Dimensions\n",
    "Python could allow us to make unrealistic operations even if the dimensions don't fit. So it is important to check the dimensions of the vectors/matrices/tensors."
   ]
  },
  {
   "cell_type": "code",
   "execution_count": 11,
   "metadata": {},
   "outputs": [],
   "source": [
    "escalar = 5.679\n",
    "vector = np.array([3,4,5])\n",
    "matriz = np.array([[1,2,3], [4,5,6]])\n",
    "tensor = np.array([[[1,2,3], [4,5,6]], \n",
    "                   [[7,8,9], [10,11,12]], \n",
    "                   [[13,14,15], [16,17,18]]])"
   ]
  },
  {
   "cell_type": "code",
   "execution_count": 15,
   "metadata": {},
   "outputs": [
    {
     "name": "stdout",
     "output_type": "stream",
     "text": [
      "Vector dim:  (3,)\n",
      "Matrix dim:  (2, 3)\n",
      "Tensor dim:  (3, 2, 3)\n"
     ]
    }
   ],
   "source": [
    "#print(\"Escalar dim: \", escalar.size) #Scalars don't have dimensions\n",
    "print(\"Vector dim: \",vector.shape)\n",
    "print(\"Matrix dim: \",matriz.shape)\n",
    "print(\"Tensor dim: \",tensor.shape)"
   ]
  },
  {
   "cell_type": "code",
   "execution_count": 16,
   "metadata": {},
   "outputs": [
    {
     "name": "stdout",
     "output_type": "stream",
     "text": [
      "Retrieves amount of elements of the first column\n",
      "Vector len:  3\n",
      "Matrix len:  2\n",
      "Tensor len:  3\n"
     ]
    }
   ],
   "source": [
    "print(\"Retrieves amount of elements of the first column\")\n",
    "print(\"Vector len: \",len(vector))\n",
    "print(\"Matrix len: \",len(matriz))\n",
    "print(\"Tensor len: \",len(tensor))"
   ]
  },
  {
   "cell_type": "code",
   "execution_count": 17,
   "metadata": {},
   "outputs": [
    {
     "name": "stdout",
     "output_type": "stream",
     "text": [
      "Size retrieves the total amount of elements of a matrix\n",
      "Vector size:  3\n",
      "Matrix size:  6\n",
      "Tensor size:  18\n"
     ]
    }
   ],
   "source": [
    "print(\"Size retrieves the total amount of elements of a matrix\")\n",
    "print(\"Vector size: \",vector.size)\n",
    "print(\"Matrix size: \",matriz.size)\n",
    "print(\"Tensor size: \",tensor.size)"
   ]
  },
  {
   "cell_type": "markdown",
   "metadata": {},
   "source": [
    "# Class 3 - Transpose\n",
    "Change rows for columns of viceversa.\n",
    "Diagonal elements preserve their position"
   ]
  },
  {
   "cell_type": "code",
   "execution_count": 29,
   "metadata": {},
   "outputs": [],
   "source": [
    "escalar = 5.679\n",
    "vector = np.array([3,4,5])\n",
    "matriz = np.array([[1,2], [4,5], [7,8]])\n",
    "tensor = np.array([[[1,2,3,4], [4,5,6,4], [7,8,9,4]], \n",
    "                   [[7,8,9,4], [10,11,12,4], [13,14,15,4]], \n",
    "                   [[13,14,15,4], [16,17,18,4], [19,20,21,4]]])"
   ]
  },
  {
   "cell_type": "code",
   "execution_count": 20,
   "metadata": {},
   "outputs": [
    {
     "ename": "AttributeError",
     "evalue": "'float' object has no attribute 'T'",
     "output_type": "error",
     "traceback": [
      "\u001b[1;31m---------------------------------------------------------------------------\u001b[0m",
      "\u001b[1;31mAttributeError\u001b[0m                            Traceback (most recent call last)",
      "Cell \u001b[1;32mIn[20], line 1\u001b[0m\n\u001b[1;32m----> 1\u001b[0m escalar_t \u001b[38;5;241m=\u001b[39m \u001b[43mescalar\u001b[49m\u001b[38;5;241;43m.\u001b[39;49m\u001b[43mT\u001b[49m \u001b[38;5;66;03m# scalars don't have rows nor columns\u001b[39;00m\n",
      "\u001b[1;31mAttributeError\u001b[0m: 'float' object has no attribute 'T'"
     ]
    }
   ],
   "source": [
    "escalar_t = escalar.T # scalars don't have rows nor columns"
   ]
  },
  {
   "cell_type": "code",
   "execution_count": 21,
   "metadata": {},
   "outputs": [
    {
     "name": "stdout",
     "output_type": "stream",
     "text": [
      "Vector transposed:  [3 4 5]\n"
     ]
    }
   ],
   "source": [
    "vector_t = vector.T # vectors are rows\n",
    "print(\"Vector transposed: \",vector_t)"
   ]
  },
  {
   "cell_type": "code",
   "execution_count": 27,
   "metadata": {},
   "outputs": [
    {
     "name": "stdout",
     "output_type": "stream",
     "text": [
      "Matrix transposed: \n",
      " [[1 4 7]\n",
      " [2 5 8]]\n",
      "(3, 2)\n",
      "(2, 3)\n"
     ]
    }
   ],
   "source": [
    "matriz_t = matriz.T\n",
    "print(\"Matrix transposed: \\n\",matriz_t)\n",
    "print(matriz.shape)\n",
    "print(matriz_t.shape)"
   ]
  },
  {
   "cell_type": "code",
   "execution_count": 33,
   "metadata": {},
   "outputs": [
    {
     "name": "stdout",
     "output_type": "stream",
     "text": [
      "tensor transposed: \n",
      " [[[ 1  7 13]\n",
      "  [ 4 10 16]\n",
      "  [ 7 13 19]]\n",
      "\n",
      " [[ 2  8 14]\n",
      "  [ 5 11 17]\n",
      "  [ 8 14 20]]\n",
      "\n",
      " [[ 3  9 15]\n",
      "  [ 6 12 18]\n",
      "  [ 9 15 21]]\n",
      "\n",
      " [[ 4  4  4]\n",
      "  [ 4  4  4]\n",
      "  [ 4  4  4]]]\n",
      "(4, 3, 3)\n",
      "tensor shape: \n",
      " [[[ 1  2  3  4]\n",
      "  [ 4  5  6  4]\n",
      "  [ 7  8  9  4]]\n",
      "\n",
      " [[ 7  8  9  4]\n",
      "  [10 11 12  4]\n",
      "  [13 14 15  4]]\n",
      "\n",
      " [[13 14 15  4]\n",
      "  [16 17 18  4]\n",
      "  [19 20 21  4]]]\n",
      "(3, 3, 4)\n"
     ]
    }
   ],
   "source": [
    "tensor_t = tensor.T\n",
    "print(\"tensor transposed: \\n\",tensor_t)\n",
    "print(tensor_t.shape)\n",
    "print(\"tensor shape: \\n\",tensor)\n",
    "print(tensor.shape)\n"
   ]
  },
  {
   "cell_type": "markdown",
   "metadata": {},
   "source": [
    "## (A.t)**t = A"
   ]
  },
  {
   "cell_type": "code",
   "execution_count": 34,
   "metadata": {},
   "outputs": [
    {
     "name": "stdout",
     "output_type": "stream",
     "text": [
      "matriz_t_t: \n",
      " [[1 2]\n",
      " [4 5]\n",
      " [7 8]]\n"
     ]
    }
   ],
   "source": [
    "matriz_t_t = matriz_t.T\n",
    "print(\"matriz_t_t: \\n\",matriz_t_t)"
   ]
  },
  {
   "cell_type": "markdown",
   "metadata": {},
   "source": [
    "## Sum of matrices\n",
    "They should have the same shape"
   ]
  },
  {
   "cell_type": "code",
   "execution_count": 35,
   "metadata": {},
   "outputs": [
    {
     "ename": "ValueError",
     "evalue": "operands could not be broadcast together with shapes (3,2) (2,3) ",
     "output_type": "error",
     "traceback": [
      "\u001b[1;31m---------------------------------------------------------------------------\u001b[0m",
      "\u001b[1;31mValueError\u001b[0m                                Traceback (most recent call last)",
      "Cell \u001b[1;32mIn[35], line 1\u001b[0m\n\u001b[1;32m----> 1\u001b[0m sum_mat \u001b[38;5;241m=\u001b[39m \u001b[43mmatriz\u001b[49m\u001b[43m \u001b[49m\u001b[38;5;241;43m+\u001b[39;49m\u001b[43m \u001b[49m\u001b[43mmatriz_t\u001b[49m \n",
      "\u001b[1;31mValueError\u001b[0m: operands could not be broadcast together with shapes (3,2) (2,3) "
     ]
    }
   ],
   "source": [
    "sum_mat = matriz + matriz_t "
   ]
  },
  {
   "cell_type": "code",
   "execution_count": 37,
   "metadata": {},
   "outputs": [
    {
     "name": "stdout",
     "output_type": "stream",
     "text": [
      "[[1 2]\n",
      " [3 4]\n",
      " [5 6]]\n",
      "[[ 7  8]\n",
      " [ 9 10]\n",
      " [11 12]]\n",
      "[[ 8 10]\n",
      " [12 14]\n",
      " [16 18]]\n"
     ]
    }
   ],
   "source": [
    "A = np.array([[1,2], [3,4], [5,6]])\n",
    "B = np.array([[7,8], [9,10], [11,12]])\n",
    "\n",
    "sum_a_b = A + B\n",
    "print(A)\n",
    "print(B)\n",
    "print(sum_a_b)"
   ]
  },
  {
   "cell_type": "markdown",
   "metadata": {},
   "source": [
    "### You can add a scalar to a matrix"
   ]
  },
  {
   "cell_type": "code",
   "execution_count": 38,
   "metadata": {},
   "outputs": [
    {
     "name": "stdout",
     "output_type": "stream",
     "text": [
      "[[ 6  7]\n",
      " [ 8  9]\n",
      " [10 11]]\n"
     ]
    }
   ],
   "source": [
    "C = A + 5\n",
    "print(C)"
   ]
  },
  {
   "cell_type": "markdown",
   "metadata": {},
   "source": [
    "# Class 4 - how to sum matrices with diff dims"
   ]
  },
  {
   "cell_type": "code",
   "execution_count": 39,
   "metadata": {},
   "outputs": [],
   "source": [
    "escalar = 5.679\n",
    "vector = np.array([3,4,5])\n",
    "matrix = np.array([[1,2], [4,5], [7,8]])"
   ]
  },
  {
   "cell_type": "markdown",
   "metadata": {},
   "source": [
    "## Broadcasting\n",
    "Extend smallest dim to match largest dim"
   ]
  },
  {
   "cell_type": "code",
   "execution_count": 48,
   "metadata": {},
   "outputs": [
    {
     "name": "stdout",
     "output_type": "stream",
     "text": [
      "(3,)\n",
      "(3, 2)\n",
      "[[ 2  6 10]\n",
      " [ 3  7 11]]\n",
      "[[ 2  3]\n",
      " [ 6  7]\n",
      " [10 11]]\n"
     ]
    }
   ],
   "source": [
    "vector_f = np.array([1,2,3])\n",
    "matrix_d = np.array([[1,2], [4,5], [7,8]])\n",
    "print(vector_f.shape)\n",
    "print(matrix_d.shape)\n",
    "\n",
    "suma_v_m =  matrix_d.T + vector_f\n",
    "print(suma_v_m)\n",
    "print(suma_v_m.T)"
   ]
  },
  {
   "cell_type": "code",
   "execution_count": null,
   "metadata": {},
   "outputs": [],
   "source": []
  }
 ],
 "metadata": {
  "kernelspec": {
   "display_name": "venv",
   "language": "python",
   "name": "python3"
  },
  "language_info": {
   "codemirror_mode": {
    "name": "ipython",
    "version": 3
   },
   "file_extension": ".py",
   "mimetype": "text/x-python",
   "name": "python",
   "nbconvert_exporter": "python",
   "pygments_lexer": "ipython3",
   "version": "3.11.9"
  }
 },
 "nbformat": 4,
 "nbformat_minor": 2
}
